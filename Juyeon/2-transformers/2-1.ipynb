{
 "cells": [
  {
   "cell_type": "markdown",
   "metadata": {},
   "source": [
    "## 2장. 트랜스포머 \n",
    "#### 도전 과제 1번. 요약 하기"
   ]
  },
  {
   "cell_type": "code",
   "execution_count": 1,
   "metadata": {},
   "outputs": [
    {
     "name": "stderr",
     "output_type": "stream",
     "text": [
      "2025-09-21 22:44:59.169379: E external/local_xla/xla/stream_executor/cuda/cuda_fft.cc:467] Unable to register cuFFT factory: Attempting to register factory for plugin cuFFT when one has already been registered\n",
      "WARNING: All log messages before absl::InitializeLog() is called are written to STDERR\n",
      "E0000 00:00:1758462299.186277 1326337 cuda_dnn.cc:8579] Unable to register cuDNN factory: Attempting to register factory for plugin cuDNN when one has already been registered\n",
      "E0000 00:00:1758462299.191211 1326337 cuda_blas.cc:1407] Unable to register cuBLAS factory: Attempting to register factory for plugin cuBLAS when one has already been registered\n",
      "W0000 00:00:1758462299.208810 1326337 computation_placer.cc:177] computation placer already registered. Please check linkage and avoid linking the same target more than once.\n",
      "W0000 00:00:1758462299.208821 1326337 computation_placer.cc:177] computation placer already registered. Please check linkage and avoid linking the same target more than once.\n",
      "W0000 00:00:1758462299.208824 1326337 computation_placer.cc:177] computation placer already registered. Please check linkage and avoid linking the same target more than once.\n",
      "W0000 00:00:1758462299.208825 1326337 computation_placer.cc:177] computation placer already registered. Please check linkage and avoid linking the same target more than once.\n",
      "2025-09-21 22:44:59.217133: I tensorflow/core/platform/cpu_feature_guard.cc:210] This TensorFlow binary is optimized to use available CPU instructions in performance-critical operations.\n",
      "To enable the following instructions: AVX2 FMA, in other operations, rebuild TensorFlow with the appropriate compiler flags.\n"
     ]
    }
   ],
   "source": [
    "from transformers import pipeline"
   ]
  },
  {
   "cell_type": "code",
   "execution_count": 2,
   "metadata": {},
   "outputs": [],
   "source": [
    "long_text = \"\"\"\n",
    "    America has changed dramatically during recent years. Not only has the number of\n",
    "    graduates in traditional engineering disciplines such as mechanical, civil,\n",
    "    electrical, chemical, and aeronautical engineering declined, but in most of\n",
    "    the premier American universities engineering curricula now concentrate on\n",
    "    and encourage largely the study of engineering science. As a result, there\n",
    "    are declining offerings in engineering subjects dealing with infrastructure,\n",
    "    the environment, and related issues, and greater concentration on high\n",
    "    technology subjects, largely supporting increasingly complex scientific\n",
    "    developments. While the latter is important, it should not be at the expense\n",
    "    of more traditional engineering.\n",
    "\n",
    "    Rapidly developing economies such as China and India, as well as other\n",
    "    industrial countries in Europe and Asia, continue to encourage and advance\n",
    "    the teaching of engineering. Both China and India, respectively, graduate\n",
    "    six and eight times as many traditional engineers as does the United States.\n",
    "    Other industrial countries at minimum maintain their output, while America\n",
    "    suffers an increasingly serious decline in the number of engineering graduates\n",
    "    and a lack of well-educated engineers.\n",
    "\"\"\""
   ]
  },
  {
   "cell_type": "code",
   "execution_count": 3,
   "metadata": {},
   "outputs": [
    {
     "data": {
      "application/vnd.jupyter.widget-view+json": {
       "model_id": "7728aede84fc4456a74bbed21bbb547a",
       "version_major": 2,
       "version_minor": 0
      },
      "text/plain": [
       "config.json: 0.00B [00:00, ?B/s]"
      ]
     },
     "metadata": {},
     "output_type": "display_data"
    },
    {
     "data": {
      "application/vnd.jupyter.widget-view+json": {
       "model_id": "9c1d6b843376476aad4a6d99af97a46f",
       "version_major": 2,
       "version_minor": 0
      },
      "text/plain": [
       "model.safetensors:   0%|          | 0.00/1.63G [00:00<?, ?B/s]"
      ]
     },
     "metadata": {},
     "output_type": "display_data"
    },
    {
     "data": {
      "application/vnd.jupyter.widget-view+json": {
       "model_id": "73561b6ce51b43b983a4b3e1e2d297d6",
       "version_major": 2,
       "version_minor": 0
      },
      "text/plain": [
       "generation_config.json:   0%|          | 0.00/363 [00:00<?, ?B/s]"
      ]
     },
     "metadata": {},
     "output_type": "display_data"
    },
    {
     "data": {
      "application/vnd.jupyter.widget-view+json": {
       "model_id": "bcdac0ecbacf4db1a5a9244a21d1159d",
       "version_major": 2,
       "version_minor": 0
      },
      "text/plain": [
       "vocab.json: 0.00B [00:00, ?B/s]"
      ]
     },
     "metadata": {},
     "output_type": "display_data"
    },
    {
     "data": {
      "application/vnd.jupyter.widget-view+json": {
       "model_id": "591b8502fffe4c3eb98ca5939e3c5c64",
       "version_major": 2,
       "version_minor": 0
      },
      "text/plain": [
       "merges.txt: 0.00B [00:00, ?B/s]"
      ]
     },
     "metadata": {},
     "output_type": "display_data"
    },
    {
     "data": {
      "application/vnd.jupyter.widget-view+json": {
       "model_id": "b9bbfc5dd1ab41148eff7625bd044943",
       "version_major": 2,
       "version_minor": 0
      },
      "text/plain": [
       "tokenizer.json: 0.00B [00:00, ?B/s]"
      ]
     },
     "metadata": {},
     "output_type": "display_data"
    },
    {
     "name": "stderr",
     "output_type": "stream",
     "text": [
      "Device set to use cuda:0\n"
     ]
    },
    {
     "name": "stdout",
     "output_type": "stream",
     "text": [
      "=== [A] Summarization Model (supervised) ===\n",
      " America has changed dramatically during recent years. The number of engineering graduates in the U.S. has declined. China and India graduate six and eight times as many traditional engineers as does the United States. Other industrial countries at minimum maintain their output, while America suffers an increasingly serious decline in the number of engineers. \n",
      "\n"
     ]
    }
   ],
   "source": [
    "# 1) 요약 전용 파이프라인 \n",
    "summarizer = pipeline(\"summarization\", model=\"facebook/bart-large-cnn\", device_map=\"auto\")\n",
    "\n",
    "sum_supervised = summarizer(\n",
    "    long_text,\n",
    "    max_length=150,  \n",
    "    min_length=60,  \n",
    "    do_sample=False, \n",
    ")[0][\"summary_text\"]\n",
    "\n",
    "print(\"=== [A] Summarization Model (supervised) ===\\n\", sum_supervised, \"\\n\")"
   ]
  },
  {
   "cell_type": "code",
   "execution_count": 4,
   "metadata": {},
   "outputs": [
    {
     "data": {
      "application/vnd.jupyter.widget-view+json": {
       "model_id": "d9668b607b9841b6839f54bae968e947",
       "version_major": 2,
       "version_minor": 0
      },
      "text/plain": [
       "model.safetensors:   0%|          | 0.00/5.31G [00:00<?, ?B/s]"
      ]
     },
     "metadata": {},
     "output_type": "display_data"
    },
    {
     "data": {
      "application/vnd.jupyter.widget-view+json": {
       "model_id": "8e5f7e90790849e2a2ebd976d935ad6b",
       "version_major": 2,
       "version_minor": 0
      },
      "text/plain": [
       "tokenizer_config.json:   0%|          | 0.00/200 [00:00<?, ?B/s]"
      ]
     },
     "metadata": {},
     "output_type": "display_data"
    },
    {
     "data": {
      "application/vnd.jupyter.widget-view+json": {
       "model_id": "67df89fb06cd483f92430ff99a597ec4",
       "version_major": 2,
       "version_minor": 0
      },
      "text/plain": [
       "vocab.json: 0.00B [00:00, ?B/s]"
      ]
     },
     "metadata": {},
     "output_type": "display_data"
    },
    {
     "data": {
      "application/vnd.jupyter.widget-view+json": {
       "model_id": "0014972f79a74787aa5c7f453ab39449",
       "version_major": 2,
       "version_minor": 0
      },
      "text/plain": [
       "merges.txt: 0.00B [00:00, ?B/s]"
      ]
     },
     "metadata": {},
     "output_type": "display_data"
    },
    {
     "data": {
      "application/vnd.jupyter.widget-view+json": {
       "model_id": "fcefa2b557fe4fc28325f871fab95542",
       "version_major": 2,
       "version_minor": 0
      },
      "text/plain": [
       "special_tokens_map.json:   0%|          | 0.00/90.0 [00:00<?, ?B/s]"
      ]
     },
     "metadata": {},
     "output_type": "display_data"
    },
    {
     "name": "stderr",
     "output_type": "stream",
     "text": [
      "Device set to use cuda:0\n",
      "Setting `pad_token_id` to `eos_token_id`:50256 for open-end generation.\n"
     ]
    },
    {
     "name": "stdout",
     "output_type": "stream",
     "text": [
      "=== [B] Zero-shot (instruction only) ===\n",
      " America has changed dramatically during recent years. Not only has the number\n",
      "    of graduates in traditional engineering disciplines such as mechanical,\n",
      "    civil, electrical, chemical, and aeronautical engineering declined, but in\n",
      "    most of the premier American universities engineering curricula now concentrate\n",
      "    on and encourage largely the study of engineering science. As a result, there\n",
      "    are declining offerings in engineering subjects dealing with infrastructure,\n",
      "    the environment, and related issues, and greater concentration on high\n",
      "    technology subjects, largely \n",
      "\n"
     ]
    }
   ],
   "source": [
    "# 2) 제로샷\n",
    "generator = pipeline(\"text-generation\", model=\"EleutherAI/gpt-neo-1.3B\", device_map=\"auto\")\n",
    "\n",
    "zero_shot_prompt = (\n",
    "    \"Summarize the following text in 2–3 sentences, focusing on the main claims and comparisons.\\n\\n\"\n",
    "    f\"Text:\\n{long_text.strip()}\\n\\nSummary:\"\n",
    ")\n",
    "\n",
    "sum_zero_shot = generator(\n",
    "    zero_shot_prompt,\n",
    "    max_new_tokens=120,\n",
    "    temperature=0.3,    \n",
    "    top_p=0.9,\n",
    "    do_sample=True,\n",
    "    return_full_text=False,\n",
    ")[0][\"generated_text\"].strip()\n",
    "\n",
    "print(\"=== [B] Zero-shot (instruction only) ===\\n\", sum_zero_shot, \"\\n\")"
   ]
  },
  {
   "cell_type": "code",
   "execution_count": 5,
   "metadata": {},
   "outputs": [
    {
     "name": "stderr",
     "output_type": "stream",
     "text": [
      "Setting `pad_token_id` to `eos_token_id`:50256 for open-end generation.\n"
     ]
    },
    {
     "name": "stdout",
     "output_type": "stream",
     "text": [
      "=== [C] Few-shot (with examples) ===\n",
      " \"America has changed dramatically during recent years. Not only has\n",
      "    the number of graduates in traditional engineering disciplines such as\n",
      "    mechanical, civil, electrical, chemical, and aeronautical engineering declined,\n",
      "    but in most of the premier American universities engineering curricula now\n",
      "    concentrate on and encourage largely the study of engineering science. As a\n",
      "    result, there are declining offerings in engineering subjects dealing with\n",
      "    infrastructure, the environment, and related issues, and greater concentration\n",
      "    on high technology subjects, largely supporting \n",
      "\n"
     ]
    }
   ],
   "source": [
    "# 3) 퓨샷 프롬프트\n",
    "few_shot_prompt = \"\"\"You are a concise academic summarizer.\n",
    "Write a 2–3 sentence summary that preserves key facts and avoids speculation.\n",
    "\n",
    "Example 1\n",
    "Text: \"The company reduced costs by 30% in 2023 while expanding into two new markets. However, supply-chain issues delayed three product launches.\"\n",
    "Summary: \"In 2023 the company cut costs by 30% and entered two new markets, but supply-chain problems delayed three launches.\"\n",
    "\n",
    "Example 2\n",
    "Text: \"A study of 2,000 participants found that daily walking correlated with improved cardiovascular markers. The authors noted limitations in self-reported activity.\"\n",
    "Summary: \"A 2,000-person study links daily walking to better cardiovascular health, though reliance on self-reports limits certainty.\"\n",
    "\n",
    "Now summarize the following text in 2–3 sentences.\n",
    "\n",
    "Text: \"\"\" + long_text.strip() + \"\\nSummary:\"\n",
    "\n",
    "sum_few_shot = generator(\n",
    "    few_shot_prompt,\n",
    "    max_new_tokens=120,\n",
    "    temperature=0.2,   # 더 보수적으로\n",
    "    top_p=0.9,\n",
    "    do_sample=True,\n",
    "    return_full_text=False,\n",
    ")[0][\"generated_text\"].strip()\n",
    "\n",
    "print(\"=== [C] Few-shot (with examples) ===\\n\", sum_few_shot, \"\\n\")"
   ]
  }
 ],
 "metadata": {
  "kernelspec": {
   "display_name": "juyeon_llm",
   "language": "python",
   "name": "python3"
  },
  "language_info": {
   "codemirror_mode": {
    "name": "ipython",
    "version": 3
   },
   "file_extension": ".py",
   "mimetype": "text/x-python",
   "name": "python",
   "nbconvert_exporter": "python",
   "pygments_lexer": "ipython3",
   "version": "3.10.16"
  }
 },
 "nbformat": 4,
 "nbformat_minor": 2
}
