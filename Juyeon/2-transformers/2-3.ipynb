{
 "cells": [
  {
   "cell_type": "markdown",
   "metadata": {},
   "source": [
    "## 2장. 트랜스포머 \n",
    "#### 도전 과제 3번. 의미 기반 검색"
   ]
  },
  {
   "cell_type": "code",
   "execution_count": 1,
   "metadata": {},
   "outputs": [
    {
     "name": "stderr",
     "output_type": "stream",
     "text": [
      "/home/jhyoo_2/anaconda3/envs/juyeon_llm/lib/python3.10/site-packages/sentence_transformers/cross_encoder/CrossEncoder.py:11: TqdmExperimentalWarning: Using `tqdm.autonotebook.tqdm` in notebook mode. Use `tqdm.tqdm` instead to force console mode (e.g. in jupyter console)\n",
      "  from tqdm.autonotebook import tqdm, trange\n",
      "2025-09-21 22:39:03.485724: E external/local_xla/xla/stream_executor/cuda/cuda_fft.cc:467] Unable to register cuFFT factory: Attempting to register factory for plugin cuFFT when one has already been registered\n",
      "WARNING: All log messages before absl::InitializeLog() is called are written to STDERR\n",
      "E0000 00:00:1758461943.504397 1326178 cuda_dnn.cc:8579] Unable to register cuDNN factory: Attempting to register factory for plugin cuDNN when one has already been registered\n",
      "E0000 00:00:1758461943.508900 1326178 cuda_blas.cc:1407] Unable to register cuBLAS factory: Attempting to register factory for plugin cuBLAS when one has already been registered\n",
      "W0000 00:00:1758461943.522218 1326178 computation_placer.cc:177] computation placer already registered. Please check linkage and avoid linking the same target more than once.\n",
      "W0000 00:00:1758461943.522238 1326178 computation_placer.cc:177] computation placer already registered. Please check linkage and avoid linking the same target more than once.\n",
      "W0000 00:00:1758461943.522241 1326178 computation_placer.cc:177] computation placer already registered. Please check linkage and avoid linking the same target more than once.\n",
      "W0000 00:00:1758461943.522242 1326178 computation_placer.cc:177] computation placer already registered. Please check linkage and avoid linking the same target more than once.\n",
      "2025-09-21 22:39:03.527175: I tensorflow/core/platform/cpu_feature_guard.cc:210] This TensorFlow binary is optimized to use available CPU instructions in performance-critical operations.\n",
      "To enable the following instructions: AVX2 FMA, in other operations, rebuild TensorFlow with the appropriate compiler flags.\n"
     ]
    }
   ],
   "source": [
    "from sentence_transformers import SentenceTransformer, util\n",
    "import torch"
   ]
  },
  {
   "cell_type": "code",
   "execution_count": 2,
   "metadata": {},
   "outputs": [],
   "source": [
    "# 1) 모델 로드\n",
    "model = SentenceTransformer(\"sentence-transformers/all-MiniLM-L6-v2\")"
   ]
  },
  {
   "cell_type": "code",
   "execution_count": 3,
   "metadata": {},
   "outputs": [
    {
     "name": "stdout",
     "output_type": "stream",
     "text": [
      "Cosine similarity: 0.6002565622329712\n"
     ]
    }
   ],
   "source": [
    "# 2) 간단 유사도 예시\n",
    "sentences = [\"I'm happy\", \"I'm full of happiness\"]\n",
    "emb1 = model.encode(sentences[0], convert_to_tensor=True, normalize_embeddings=True)\n",
    "emb2 = model.encode(sentences[1], convert_to_tensor=True, normalize_embeddings=True)\n",
    "\n",
    "print(\"Cosine similarity:\", float(util.cos_sim(emb1, emb2)))"
   ]
  },
  {
   "cell_type": "code",
   "execution_count": 4,
   "metadata": {},
   "outputs": [],
   "source": [
    "# 3) FAQ 데이터\n",
    "faq = {\n",
    "    \"How do I get a replacement Medicare card?\": \"If your Medicare card was lost, stolen, or destroyed, you can request a replacement online at Medicare.gov.\",\n",
    "    \"How do I sign up for Medicare?\": \"If you already get Social Security benefits, you do not need to sign up for Medicare. We will automatically enroll you in Original Medicare (Part A and Part B) when you become eligible. We will mail you the information a few months before you become eligible.\",\n",
    "    \"What are Medicare late enrollment penalties?\": \"In most cases, if you don’t sign up for Medicare when you’re first eligible, you may have to pay a higher monthly premium. Find more information at https://faq.ssa.gov/en-us/Topic/article/KA-02995\",\n",
    "    \"Will my Medicare premiums be higher because of my higher income?\": \"Some people with higher income may pay a larger percentage of their monthly Medicare Part B and prescription drug costs based on their income. We call the additional amount the income-related monthly adjustment amount.\",\n",
    "    \"What is Medicare and who can get it?\": \"Medicare is a health insurance program for people age 65 or older. Some younger people are eligible for Medicare including people with disabilities, permanent kidney failure and amyotrophic lateral sclerosis (Lou Gehrig’s disease or ALS). Medicare helps with the cost of health care, but it does not cover all medical expenses or the cost of most long-term care.\",\n",
    "}"
   ]
  },
  {
   "cell_type": "code",
   "execution_count": 5,
   "metadata": {},
   "outputs": [],
   "source": [
    "faq_questions = list(faq.keys())\n",
    "faq_answers   = list(faq.values())"
   ]
  },
  {
   "cell_type": "code",
   "execution_count": 6,
   "metadata": {},
   "outputs": [
    {
     "name": "stdout",
     "output_type": "stream",
     "text": [
      "Corpus embedding shape: (5, 384)\n"
     ]
    }
   ],
   "source": [
    "# 4) 코퍼스 임베딩\n",
    "corpus_embeddings = model.encode(faq_answers, convert_to_tensor=True, normalize_embeddings=True)\n",
    "print(\"Corpus embedding shape:\", tuple(corpus_embeddings.shape))"
   ]
  },
  {
   "cell_type": "code",
   "execution_count": 7,
   "metadata": {},
   "outputs": [],
   "source": [
    "# 5) 질의 -> 상위 3개 FAQ 찾기 \n",
    "user_question = \"Do I need to pay more after a raise?\"\n",
    "query_embedding = model.encode(user_question, convert_to_tensor=True, normalize_embeddings=True)"
   ]
  },
  {
   "cell_type": "code",
   "execution_count": 8,
   "metadata": {},
   "outputs": [
    {
     "name": "stdout",
     "output_type": "stream",
     "text": [
      "\n",
      "=== Top-3 by raw cosine similarity ===\n",
      "Top 1 (score=0.3580): Will my Medicare premiums be higher because of my higher income?\n",
      "Answer: Some people with higher income may pay a larger percentage of their monthly Medicare Part B and prescription drug costs based on their income. We call the additional amount the income-related monthly adjustment amount.\n",
      "\n",
      "Top 2 (score=0.2788): What are Medicare late enrollment penalties?\n",
      "Answer: In most cases, if you don’t sign up for Medicare when you’re first eligible, you may have to pay a higher monthly premium. Find more information at https://faq.ssa.gov/en-us/Topic/article/KA-02995\n",
      "\n",
      "Top 3 (score=0.1584): How do I sign up for Medicare?\n",
      "Answer: If you already get Social Security benefits, you do not need to sign up for Medicare. We will automatically enroll you in Original Medicare (Part A and Part B) when you become eligible. We will mail you the information a few months before you become eligible.\n",
      "\n"
     ]
    }
   ],
   "source": [
    "# 수동 코사인 유사도 Top-k\n",
    "cos_scores = util.cos_sim(query_embedding, corpus_embeddings)[0]  \n",
    "top_k = torch.topk(cos_scores, k=3)  \n",
    "\n",
    "print(\"\\n=== Top-3 by raw cosine similarity ===\")\n",
    "\n",
    "for i, (score, idx) in enumerate(zip(top_k.values, top_k.indices), 1):\n",
    "    print(f\"Top {i} (score={float(score):.4f}): {faq_questions[idx]}\")\n",
    "    print(f\"Answer: {faq_answers[idx]}\\n\")"
   ]
  },
  {
   "cell_type": "code",
   "execution_count": 9,
   "metadata": {},
   "outputs": [
    {
     "name": "stdout",
     "output_type": "stream",
     "text": [
      "=== Top-3 by util.semantic_search ===\n",
      "Top 1 (score=0.3580): Will my Medicare premiums be higher because of my higher income?\n",
      "Answer: Some people with higher income may pay a larger percentage of their monthly Medicare Part B and prescription drug costs based on their income. We call the additional amount the income-related monthly adjustment amount.\n",
      "\n",
      "Top 2 (score=0.2788): What are Medicare late enrollment penalties?\n",
      "Answer: In most cases, if you don’t sign up for Medicare when you’re first eligible, you may have to pay a higher monthly premium. Find more information at https://faq.ssa.gov/en-us/Topic/article/KA-02995\n",
      "\n",
      "Top 3 (score=0.1584): How do I sign up for Medicare?\n",
      "Answer: If you already get Social Security benefits, you do not need to sign up for Medicare. We will automatically enroll you in Original Medicare (Part A and Part B) when you become eligible. We will mail you the information a few months before you become eligible.\n",
      "\n"
     ]
    }
   ],
   "source": [
    "# semantic_search 유틸 사용 \n",
    "results = util.semantic_search(query_embedding, corpus_embeddings, top_k=3, score_function=util.dot_score)\n",
    "\n",
    "print(\"=== Top-3 by util.semantic_search ===\")\n",
    "\n",
    "for i, r in enumerate(results[0], 1):\n",
    "    idx = r[\"corpus_id\"]\n",
    "    print(f\"Top {i} (score={float(r['score']):.4f}): {faq_questions[idx]}\")\n",
    "    print(f\"Answer: {faq_answers[idx]}\\n\")"
   ]
  },
  {
   "cell_type": "code",
   "execution_count": null,
   "metadata": {},
   "outputs": [],
   "source": []
  }
 ],
 "metadata": {
  "kernelspec": {
   "display_name": "juyeon_llm",
   "language": "python",
   "name": "python3"
  },
  "language_info": {
   "codemirror_mode": {
    "name": "ipython",
    "version": 3
   },
   "file_extension": ".py",
   "mimetype": "text/x-python",
   "name": "python",
   "nbconvert_exporter": "python",
   "pygments_lexer": "ipython3",
   "version": "3.10.16"
  }
 },
 "nbformat": 4,
 "nbformat_minor": 2
}
